{
 "cells": [
  {
   "cell_type": "markdown",
   "id": "9f485cae",
   "metadata": {},
   "source": [
    "# Data Transform\n",
    "\n",
    "In this notebook, we will ask you a series of questions to evaluate your findings from your EDA. Based on your response & justification, we will ask you to also apply a subsequent data transformation. \n",
    "\n",
    "If you state that you will not apply any data transformations for this step, you must **justify** as to why your dataset/machine-learning does not require the mentioned data preprocessing step.\n",
    "\n",
    "The bonus step is completely optional, but if you provide a sufficient feature engineering step in this project we will add `1000` points to your Kahoot leaderboard score.\n",
    "\n",
    "You will write out this transformed dataframe as a `.csv` file to your `data/` folder.\n",
    "\n",
    "**Note**: Again, note that this dataset is quite large. If you find that some data operations take too long to complete on your machine, simply use the `sample()` method to transform a subset of your data."
   ]
  },
  {
   "cell_type": "code",
   "execution_count": 2,
   "id": "90a38922",
   "metadata": {},
   "outputs": [],
   "source": [
    "import pandas as pd \n",
    "import numpy as np"
   ]
  },
  {
   "cell_type": "code",
   "execution_count": 4,
   "id": "181e9a13",
   "metadata": {},
   "outputs": [
    {
     "data": {
      "text/html": [
       "<div>\n",
       "<style scoped>\n",
       "    .dataframe tbody tr th:only-of-type {\n",
       "        vertical-align: middle;\n",
       "    }\n",
       "\n",
       "    .dataframe tbody tr th {\n",
       "        vertical-align: top;\n",
       "    }\n",
       "\n",
       "    .dataframe thead th {\n",
       "        text-align: right;\n",
       "    }\n",
       "</style>\n",
       "<table border=\"1\" class=\"dataframe\">\n",
       "  <thead>\n",
       "    <tr style=\"text-align: right;\">\n",
       "      <th></th>\n",
       "      <th>type</th>\n",
       "      <th>amount</th>\n",
       "      <th>nameOrig</th>\n",
       "      <th>oldbalanceOrg</th>\n",
       "      <th>newbalanceOrig</th>\n",
       "      <th>nameDest</th>\n",
       "      <th>oldbalanceDest</th>\n",
       "      <th>newbalanceDest</th>\n",
       "      <th>isFraud</th>\n",
       "      <th>isFlaggedFraud</th>\n",
       "    </tr>\n",
       "  </thead>\n",
       "  <tbody>\n",
       "    <tr>\n",
       "      <th>0</th>\n",
       "      <td>PAYMENT</td>\n",
       "      <td>983.09</td>\n",
       "      <td>C1454812978</td>\n",
       "      <td>36730.24</td>\n",
       "      <td>35747.15</td>\n",
       "      <td>M1491308340</td>\n",
       "      <td>0.00</td>\n",
       "      <td>0.00</td>\n",
       "      <td>0</td>\n",
       "      <td>0</td>\n",
       "    </tr>\n",
       "    <tr>\n",
       "      <th>1</th>\n",
       "      <td>PAYMENT</td>\n",
       "      <td>55215.25</td>\n",
       "      <td>C1031766358</td>\n",
       "      <td>99414.00</td>\n",
       "      <td>44198.75</td>\n",
       "      <td>M2102868029</td>\n",
       "      <td>0.00</td>\n",
       "      <td>0.00</td>\n",
       "      <td>0</td>\n",
       "      <td>0</td>\n",
       "    </tr>\n",
       "    <tr>\n",
       "      <th>2</th>\n",
       "      <td>CASH_IN</td>\n",
       "      <td>220986.01</td>\n",
       "      <td>C1451868666</td>\n",
       "      <td>7773074.97</td>\n",
       "      <td>7994060.98</td>\n",
       "      <td>C1339195526</td>\n",
       "      <td>924031.48</td>\n",
       "      <td>703045.48</td>\n",
       "      <td>0</td>\n",
       "      <td>0</td>\n",
       "    </tr>\n",
       "    <tr>\n",
       "      <th>3</th>\n",
       "      <td>TRANSFER</td>\n",
       "      <td>2357394.75</td>\n",
       "      <td>C458368123</td>\n",
       "      <td>0.00</td>\n",
       "      <td>0.00</td>\n",
       "      <td>C620979654</td>\n",
       "      <td>4202580.45</td>\n",
       "      <td>6559975.19</td>\n",
       "      <td>0</td>\n",
       "      <td>0</td>\n",
       "    </tr>\n",
       "    <tr>\n",
       "      <th>4</th>\n",
       "      <td>CASH_OUT</td>\n",
       "      <td>67990.14</td>\n",
       "      <td>C1098978063</td>\n",
       "      <td>0.00</td>\n",
       "      <td>0.00</td>\n",
       "      <td>C142246322</td>\n",
       "      <td>625317.04</td>\n",
       "      <td>693307.19</td>\n",
       "      <td>0</td>\n",
       "      <td>0</td>\n",
       "    </tr>\n",
       "  </tbody>\n",
       "</table>\n",
       "</div>"
      ],
      "text/plain": [
       "       type      amount     nameOrig  oldbalanceOrg  newbalanceOrig  \\\n",
       "0   PAYMENT      983.09  C1454812978       36730.24        35747.15   \n",
       "1   PAYMENT    55215.25  C1031766358       99414.00        44198.75   \n",
       "2   CASH_IN   220986.01  C1451868666     7773074.97      7994060.98   \n",
       "3  TRANSFER  2357394.75   C458368123           0.00            0.00   \n",
       "4  CASH_OUT    67990.14  C1098978063           0.00            0.00   \n",
       "\n",
       "      nameDest  oldbalanceDest  newbalanceDest  isFraud  isFlaggedFraud  \n",
       "0  M1491308340            0.00            0.00        0               0  \n",
       "1  M2102868029            0.00            0.00        0               0  \n",
       "2  C1339195526       924031.48       703045.48        0               0  \n",
       "3   C620979654      4202580.45      6559975.19        0               0  \n",
       "4   C142246322       625317.04       693307.19        0               0  "
      ]
     },
     "execution_count": 4,
     "metadata": {},
     "output_type": "execute_result"
    }
   ],
   "source": [
    "# import data\n",
    "transactions_data = pd.read_csv('../data/bank_transactions.csv')\n",
    "\n",
    "# shows the first 5 rows of our transactions dataset\n",
    "transactions_data.head()"
   ]
  },
  {
   "cell_type": "code",
   "execution_count": 5,
   "id": "53285a90",
   "metadata": {},
   "outputs": [
    {
     "data": {
      "text/plain": [
       "type              0\n",
       "amount            0\n",
       "nameOrig          0\n",
       "oldbalanceOrg     0\n",
       "newbalanceOrig    0\n",
       "nameDest          0\n",
       "oldbalanceDest    0\n",
       "newbalanceDest    0\n",
       "isFraud           0\n",
       "isFlaggedFraud    0\n",
       "dtype: int64"
      ]
     },
     "execution_count": 5,
     "metadata": {},
     "output_type": "execute_result"
    }
   ],
   "source": [
    "# Shows any missing values or data in our sampled data\n",
    "transactions_data.isnull().sum()"
   ]
  },
  {
   "cell_type": "markdown",
   "id": "1360ca62",
   "metadata": {},
   "source": [
    "## Q1\n",
    "\n",
    "Does your model contain any missing values or \"non-predictive\" columns? If so, which adjustments should you take to ensure that your model has good predictive capabilities? Apply your data transformations (if any) in the code-block below.\n",
    "\n",
    "Based on our bank transactions csv file, we do not have any missing values in our dataset. There are a few \"non-predictive\" columns that would need to be removed as they would not provide a good preditive capabilitiy for our models. The \"non-predictive\" columns that would need to be dropped from our dataset are **NameOrig** and **NameDest**.  "
   ]
  },
  {
   "cell_type": "code",
   "execution_count": 10,
   "id": "6cfe64ca",
   "metadata": {},
   "outputs": [
    {
     "name": "stdout",
     "output_type": "stream",
     "text": [
      "<class 'pandas.core.frame.DataFrame'>\n",
      "RangeIndex: 1000000 entries, 0 to 999999\n",
      "Data columns (total 8 columns):\n",
      " #   Column          Non-Null Count    Dtype  \n",
      "---  ------          --------------    -----  \n",
      " 0   type            1000000 non-null  object \n",
      " 1   amount          1000000 non-null  float64\n",
      " 2   oldbalanceOrg   1000000 non-null  float64\n",
      " 3   newbalanceOrig  1000000 non-null  float64\n",
      " 4   oldbalanceDest  1000000 non-null  float64\n",
      " 5   newbalanceDest  1000000 non-null  float64\n",
      " 6   isFraud         1000000 non-null  int64  \n",
      " 7   isFlaggedFraud  1000000 non-null  int64  \n",
      "dtypes: float64(5), int64(2), object(1)\n",
      "memory usage: 61.0+ MB\n"
     ]
    }
   ],
   "source": [
    "# Drop non-predictive columns\n",
    "transaction_updated = transactions_data.drop(columns = ['nameOrig', 'nameDest'])\n",
    "\n",
    "# Confirm changes\n",
    "transaction_updated.info()"
   ]
  },
  {
   "cell_type": "code",
   "execution_count": 12,
   "id": "b016ef32",
   "metadata": {},
   "outputs": [
    {
     "data": {
      "text/html": [
       "<div>\n",
       "<style scoped>\n",
       "    .dataframe tbody tr th:only-of-type {\n",
       "        vertical-align: middle;\n",
       "    }\n",
       "\n",
       "    .dataframe tbody tr th {\n",
       "        vertical-align: top;\n",
       "    }\n",
       "\n",
       "    .dataframe thead th {\n",
       "        text-align: right;\n",
       "    }\n",
       "</style>\n",
       "<table border=\"1\" class=\"dataframe\">\n",
       "  <thead>\n",
       "    <tr style=\"text-align: right;\">\n",
       "      <th></th>\n",
       "      <th>type</th>\n",
       "      <th>amount</th>\n",
       "      <th>oldbalanceOrg</th>\n",
       "      <th>newbalanceOrig</th>\n",
       "      <th>oldbalanceDest</th>\n",
       "      <th>newbalanceDest</th>\n",
       "      <th>isFraud</th>\n",
       "      <th>isFlaggedFraud</th>\n",
       "    </tr>\n",
       "  </thead>\n",
       "  <tbody>\n",
       "    <tr>\n",
       "      <th>0</th>\n",
       "      <td>PAYMENT</td>\n",
       "      <td>983.09</td>\n",
       "      <td>36730.24</td>\n",
       "      <td>35747.15</td>\n",
       "      <td>0.00</td>\n",
       "      <td>0.00</td>\n",
       "      <td>0</td>\n",
       "      <td>0</td>\n",
       "    </tr>\n",
       "    <tr>\n",
       "      <th>1</th>\n",
       "      <td>PAYMENT</td>\n",
       "      <td>55215.25</td>\n",
       "      <td>99414.00</td>\n",
       "      <td>44198.75</td>\n",
       "      <td>0.00</td>\n",
       "      <td>0.00</td>\n",
       "      <td>0</td>\n",
       "      <td>0</td>\n",
       "    </tr>\n",
       "    <tr>\n",
       "      <th>2</th>\n",
       "      <td>CASH_IN</td>\n",
       "      <td>220986.01</td>\n",
       "      <td>7773074.97</td>\n",
       "      <td>7994060.98</td>\n",
       "      <td>924031.48</td>\n",
       "      <td>703045.48</td>\n",
       "      <td>0</td>\n",
       "      <td>0</td>\n",
       "    </tr>\n",
       "    <tr>\n",
       "      <th>3</th>\n",
       "      <td>TRANSFER</td>\n",
       "      <td>2357394.75</td>\n",
       "      <td>0.00</td>\n",
       "      <td>0.00</td>\n",
       "      <td>4202580.45</td>\n",
       "      <td>6559975.19</td>\n",
       "      <td>0</td>\n",
       "      <td>0</td>\n",
       "    </tr>\n",
       "    <tr>\n",
       "      <th>4</th>\n",
       "      <td>CASH_OUT</td>\n",
       "      <td>67990.14</td>\n",
       "      <td>0.00</td>\n",
       "      <td>0.00</td>\n",
       "      <td>625317.04</td>\n",
       "      <td>693307.19</td>\n",
       "      <td>0</td>\n",
       "      <td>0</td>\n",
       "    </tr>\n",
       "  </tbody>\n",
       "</table>\n",
       "</div>"
      ],
      "text/plain": [
       "       type      amount  oldbalanceOrg  newbalanceOrig  oldbalanceDest  \\\n",
       "0   PAYMENT      983.09       36730.24        35747.15            0.00   \n",
       "1   PAYMENT    55215.25       99414.00        44198.75            0.00   \n",
       "2   CASH_IN   220986.01     7773074.97      7994060.98       924031.48   \n",
       "3  TRANSFER  2357394.75           0.00            0.00      4202580.45   \n",
       "4  CASH_OUT    67990.14           0.00            0.00       625317.04   \n",
       "\n",
       "   newbalanceDest  isFraud  isFlaggedFraud  \n",
       "0            0.00        0               0  \n",
       "1            0.00        0               0  \n",
       "2       703045.48        0               0  \n",
       "3      6559975.19        0               0  \n",
       "4       693307.19        0               0  "
      ]
     },
     "execution_count": 12,
     "metadata": {},
     "output_type": "execute_result"
    }
   ],
   "source": [
    "# shows the first 5 rows of our updated transactions dataset\n",
    "transaction_updated.head()"
   ]
  },
  {
   "cell_type": "markdown",
   "id": "301be5ef",
   "metadata": {},
   "source": [
    "## Q2\n",
    "\n",
    "Do certain transaction types consistently differ in amount or fraud likelihood? If so, how might you transform the type column to make this pattern usable by a machine learning model? Apply your data transformations (if any) in the code-block below.\n",
    "\n",
    "Answer here"
   ]
  },
  {
   "cell_type": "code",
   "execution_count": null,
   "id": "aa820db6",
   "metadata": {},
   "outputs": [],
   "source": []
  },
  {
   "cell_type": "markdown",
   "id": "b952403f",
   "metadata": {},
   "source": [
    "## Q3\n",
    "\n",
    "After exploring your data, you may have noticed that fraudulent transactions are rare compared to non-fraudulent ones. What challenges might this pose when training a machine learning model? What strategies could you use to ensure your model learns meaningful patterns from the minority class? Apply your data transformations (if any) in the code-block below.\n",
    "\n",
    "Answer here"
   ]
  },
  {
   "cell_type": "code",
   "execution_count": null,
   "id": "e22f1422",
   "metadata": {},
   "outputs": [],
   "source": []
  },
  {
   "cell_type": "markdown",
   "id": "17737e9e",
   "metadata": {},
   "source": [
    "## Bonus (optional)\n",
    "\n",
    "Are there interaction effects between variables (e.g., fraud and high amount and transaction type) that aren't captured directly in the dataset? Would it be helpful to manually engineer any new features that reflect these interactions? Apply your data transformations (if any) in the code-block below.\n",
    "\n",
    "Answer Here"
   ]
  },
  {
   "cell_type": "code",
   "execution_count": null,
   "id": "3f48b7af",
   "metadata": {},
   "outputs": [],
   "source": []
  },
  {
   "cell_type": "code",
   "execution_count": 2,
   "id": "81cbfb3c",
   "metadata": {},
   "outputs": [],
   "source": [
    "# write out newly transformed dataset to your folder\n",
    "..."
   ]
  }
 ],
 "metadata": {
  "kernelspec": {
   "display_name": "ds",
   "language": "python",
   "name": "python3"
  },
  "language_info": {
   "codemirror_mode": {
    "name": "ipython",
    "version": 3
   },
   "file_extension": ".py",
   "mimetype": "text/x-python",
   "name": "python",
   "nbconvert_exporter": "python",
   "pygments_lexer": "ipython3",
   "version": "3.12.9"
  }
 },
 "nbformat": 4,
 "nbformat_minor": 5
}
